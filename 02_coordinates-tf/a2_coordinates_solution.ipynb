{
 "cells": [
  {
   "cell_type": "code",
   "execution_count": 1,
   "id": "741eb94c-4e64-444a-8a1d-96cbb48f68fe",
   "metadata": {
    "jupyter": {
     "source_hidden": true
    },
    "trusted": true
   },
   "outputs": [],
   "source": [
    "# Execute this for split-screen desktop.\n",
    "\n",
    "import os\n",
    "from IPython.display import display, HTML\n",
    "from sidecar import Sidecar\n",
    "\n",
    "try:\n",
    "    JUPYTERHUB_USER = os.environ['JUPYTERHUB_USER']\n",
    "except KeyError:\n",
    "    JUPYTERHUB_USER = None\n",
    "url_prefix = f\"/user/{JUPYTERHUB_USER}\" if JUPYTERHUB_USER is not None else ''\n",
    "remote_desktop_url = f\"{url_prefix}/desktop\"\n",
    "sc = Sidecar(title='Desktop')\n",
    "with sc:\n",
    "    # The inserted custom HTML and CSS snippets are to make the tab resizable\n",
    "    display(HTML(f\"\"\"\n",
    "        <style>\n",
    "        body.p-mod-override-cursor div.iframe-widget {{\n",
    "            position: relative;\n",
    "            pointer-events: none;\n",
    "\n",
    "        }}\n",
    "\n",
    "        body.p-mod-override-cursor div.iframe-widget:before {{\n",
    "            content: '';\n",
    "            position: absolute;\n",
    "            top: 0;\n",
    "            left: 0;\n",
    "            right: 0;\n",
    "            bottom: 0;\n",
    "            background: transparent;\n",
    "        }}\n",
    "        </style>\n",
    "        <div class=\"iframe-widget\" style=\"width: calc(100% + 10px);height:100%;\">\n",
    "            <iframe src=\"{remote_desktop_url}\" width=\"100%\" height=\"100%\"></iframe>\n",
    "        </div>\n",
    "    \"\"\"))"
   ]
  },
  {
   "cell_type": "markdown",
   "id": "560f5f7c-d645-47a9-b73a-21913d193b38",
   "metadata": {},
   "source": [
    "# Assignment 2 - Coordinates & Transforms\n",
    "\n",
    "## Build your Turtlebot\n",
    "\n",
    "The task of this assignment is to build the TortugaBot through Visualization Markers. Lets first set up the environment.\n",
    "\n",
    "Open Rviz. ([references](https://docs.ros.org/en/jazzy/Tutorials/Intermediate/RViz/RViz-User-Guide/RViz-User-Guide.html))\n",
    "```bash\n",
    "rviz2\n",
    "```\n",
    "* Set Global options > Fixed frame to `/world`. \n",
    "* Then add TF.\n",
    "\n",
    "Start the turtlesim demo from [the TF2 tutorials](https://docs.ros.org/en/jazzy/Tutorials/Intermediate/Tf2/Introduction-To-Tf2.html) in one terminal here:\n",
    "```bash\n",
    "ros2 launch turtle_tf2_py turtle_tf2_demo.launch.py\n",
    "```\n",
    "and in another terminal run\n",
    "```bash\n",
    "ros2 run turtlesim turtle_teleop_key\n",
    "```\n",
    "Move turtle with arrow keys in the terminal.\n",
    "\n",
    "Execute the below python code blocks to publish arrow on the turtle1 frame\n",
    "\n",
    "https://wiki.ros.org/rviz/DisplayTypes/Marker\n"
   ]
  },
  {
   "cell_type": "markdown",
   "id": "f1ae606f-60dd-4703-bd70-58808bdb1331",
   "metadata": {},
   "source": [
    "## Example: How to publish markers"
   ]
  },
  {
   "cell_type": "code",
   "execution_count": 3,
   "id": "31336518-654f-4fcb-983c-b5702d561760",
   "metadata": {
    "trusted": true
   },
   "outputs": [],
   "source": [
    "import rclpy\n",
    "from rclpy.node import Node\n",
    "from visualization_msgs.msg import Marker"
   ]
  },
  {
   "cell_type": "code",
   "execution_count": 5,
   "id": "430653fd-792b-40d1-a1ec-fc3a3d58c754",
   "metadata": {
    "trusted": true
   },
   "outputs": [],
   "source": [
    "class Balloon(Node):\n",
    "    def __init__(self):\n",
    "        # Initialize the ROS Node Publisher\n",
    "        super().__init__('balloon_marker')\n",
    "        self.publisher_ = self.create_publisher(Marker, 'balloon', 10)\n",
    "        \n",
    "        # Setting the timer creates a scheduled callback for rclpy.spin\n",
    "        timer_period = 0.5  # in seconds\n",
    "        self.timer = self.create_timer(timer_period, self.publish_marker)\n",
    "\n",
    "        # Design the marker\n",
    "        self.marker = Marker()\n",
    "        self.marker.header.frame_id = '/turtle1'\n",
    "        self.marker.header.stamp = self.get_clock().now().to_msg()\n",
    "        self.marker.type = self.marker.SPHERE\n",
    "        self.marker.id = 0\n",
    "        self.marker.action = self.marker.ADD\n",
    "        self.marker.scale.x = 0.4\n",
    "        self.marker.scale.y = 0.4\n",
    "        self.marker.scale.z = 0.4\n",
    "        self.marker.color.r = 1.0\n",
    "        self.marker.color.g = 0.0\n",
    "        self.marker.color.b = 0.0\n",
    "        self.marker.color.a = 1.0\n",
    "        self.marker.pose.position.x = 0.0\n",
    "        self.marker.pose.position.y = 0.0\n",
    "        self.marker.pose.position.z = 0.5\n",
    "        self.get_logger().info(\"Publishing the \" + self.publisher_.topic + \" topic. Use RViz to visualize.\")\n",
    "\n",
    "    \n",
    "    def publish_marker(self):\n",
    "        self.marker.header.stamp = self.get_clock().now().to_msg()\n",
    "        self.publisher_.publish(self.marker)"
   ]
  },
  {
   "cell_type": "code",
   "execution_count": 6,
   "id": "f6f4e7e5-7b72-461f-9d0f-8cd4cca7194e",
   "metadata": {
    "trusted": true
   },
   "outputs": [
    {
     "name": "stderr",
     "output_type": "stream",
     "text": [
      "[INFO] [1746631883.380662553] [balloon_marker]: Publishing the balloon topic. Use RViz to visualize.\n"
     ]
    }
   ],
   "source": [
    "# Initialize rclpy ROS communication\n",
    "rclpy.init()\n",
    "# Instantiate ROS node\n",
    "balloon = Balloon()"
   ]
  },
  {
   "cell_type": "markdown",
   "id": "a566fa78-a5be-44a7-b985-253a09042fb3",
   "metadata": {},
   "source": [
    "In Rviz `Add` > `By topic` > `/balloon` > Marker"
   ]
  },
  {
   "cell_type": "code",
   "execution_count": 7,
   "id": "3ff854dd-b607-4bc8-a40b-01ef5404b638",
   "metadata": {
    "trusted": true
   },
   "outputs": [],
   "source": [
    "balloon.publish_marker()"
   ]
  },
  {
   "cell_type": "markdown",
   "id": "6f641df0-8255-4db1-b6fc-4d0be25bd567",
   "metadata": {},
   "source": []
  },
  {
   "cell_type": "markdown",
   "id": "c5274f17-2a13-4e5b-ab06-8f62f8ceeeb8",
   "metadata": {},
   "source": [
    "There should now be a red baloon above `turtle1`. To publish continually, spin the node."
   ]
  },
  {
   "cell_type": "code",
   "execution_count": null,
   "id": "13c449b4-b4d6-465f-9c22-2d7e28579c66",
   "metadata": {
    "trusted": true
   },
   "outputs": [],
   "source": [
    "rclpy.spin(balloon)"
   ]
  },
  {
   "cell_type": "markdown",
   "id": "012581a7-8002-43bb-b8ea-dc44bb2117b9",
   "metadata": {},
   "source": [
    "Clean up afterwards"
   ]
  },
  {
   "cell_type": "code",
   "execution_count": 9,
   "id": "efd459e5-5fe1-4b75-a1b4-cb1f463a7308",
   "metadata": {
    "trusted": true
   },
   "outputs": [],
   "source": [
    "balloon.destroy_node()  "
   ]
  },
  {
   "cell_type": "code",
   "execution_count": 10,
   "id": "c3c5490f-7feb-4347-b425-2e9806ca7392",
   "metadata": {
    "trusted": true
   },
   "outputs": [],
   "source": [
    "rclpy.shutdown()"
   ]
  },
  {
   "cell_type": "markdown",
   "id": "477fa6dc-525e-4e29-b32e-81e73a3f1f83",
   "metadata": {},
   "source": [
    "## Example: How to use rotation"
   ]
  },
  {
   "cell_type": "code",
   "execution_count": 11,
   "id": "02c03246-75ea-4157-9109-209ad0ef5501",
   "metadata": {
    "trusted": true
   },
   "outputs": [
    {
     "name": "stdout",
     "output_type": "stream",
     "text": [
      "Requirement already satisfied: transforms3d in /home/sam/ROS/rpwr-assignments/venv/lib/python3.12/site-packages (0.4.2)\n",
      "Requirement already satisfied: numpy>=1.15 in /home/sam/ROS/rpwr-assignments/venv/lib/python3.12/site-packages (from transforms3d) (2.2.5)\n"
     ]
    }
   ],
   "source": [
    "import sys\n",
    "!{sys.executable} -m pip install transforms3d"
   ]
  },
  {
   "cell_type": "code",
   "execution_count": 12,
   "id": "4bffb40f-8d55-4c8a-a6fb-428df50ddae4",
   "metadata": {
    "tags": [],
    "trusted": true
   },
   "outputs": [],
   "source": [
    "from tf_transformations import euler_matrix, quaternion_from_matrix, rotation_from_matrix, euler_from_matrix"
   ]
  },
  {
   "cell_type": "code",
   "execution_count": 13,
   "id": "fbcd4a25-f53c-4711-921b-1b42eadd89a0",
   "metadata": {
    "tags": [],
    "trusted": true
   },
   "outputs": [],
   "source": [
    "# Standard rotation\n",
    "r = euler_matrix(0,0,0)"
   ]
  },
  {
   "cell_type": "code",
   "execution_count": 14,
   "id": "453a32cb-d243-46f7-a75a-477d4e896764",
   "metadata": {
    "tags": [],
    "trusted": true
   },
   "outputs": [
    {
     "data": {
      "text/plain": [
       "array([[1., 0., 0., 0.],\n",
       "       [0., 1., 0., 0.],\n",
       "       [0., 0., 1., 0.],\n",
       "       [0., 0., 0., 1.]])"
      ]
     },
     "execution_count": 14,
     "metadata": {},
     "output_type": "execute_result"
    }
   ],
   "source": [
    "# All rotations are represented as matrices underneath.\n",
    "r"
   ]
  },
  {
   "cell_type": "code",
   "execution_count": 15,
   "id": "f61f0f42-b45d-40e9-95a8-f08e52a041e5",
   "metadata": {
    "tags": [],
    "trusted": true
   },
   "outputs": [
    {
     "data": {
      "text/plain": [
       "(np.float64(0.0), np.float64(0.0), np.float64(0.0), np.float64(1.0))"
      ]
     },
     "execution_count": 15,
     "metadata": {},
     "output_type": "execute_result"
    }
   ],
   "source": [
    "# Quaternion\n",
    "quaternion_from_matrix(r)"
   ]
  },
  {
   "cell_type": "code",
   "execution_count": 16,
   "id": "13b04d55-b803-4835-9da2-30269207a165",
   "metadata": {
    "tags": [],
    "trusted": true
   },
   "outputs": [
    {
     "data": {
      "text/plain": [
       "0.0"
      ]
     },
     "execution_count": 16,
     "metadata": {},
     "output_type": "execute_result"
    }
   ],
   "source": [
    "# Angle Rotations\n",
    "angle, _, _ = rotation_from_matrix(r)\n",
    "angle"
   ]
  },
  {
   "cell_type": "code",
   "execution_count": 17,
   "id": "bfc87999-50c6-4576-a1c5-3f574361fdc2",
   "metadata": {
    "tags": [],
    "trusted": true
   },
   "outputs": [
    {
     "data": {
      "text/plain": [
       "(0.0, -0.0, 0.0)"
      ]
     },
     "execution_count": 17,
     "metadata": {},
     "output_type": "execute_result"
    }
   ],
   "source": [
    "# Euler Angle\n",
    "euler_from_matrix(r)"
   ]
  },
  {
   "cell_type": "code",
   "execution_count": 18,
   "id": "4a25b1f5-d676-445d-ae8f-16839fac72e1",
   "metadata": {
    "tags": [],
    "trusted": true
   },
   "outputs": [],
   "source": [
    "import numpy as np"
   ]
  },
  {
   "cell_type": "code",
   "execution_count": 19,
   "id": "ac4f8432-b0dd-4198-b858-de25d21fe297",
   "metadata": {
    "tags": [],
    "trusted": true
   },
   "outputs": [],
   "source": [
    "r = euler_matrix(np.pi,0,0)"
   ]
  },
  {
   "cell_type": "code",
   "execution_count": 20,
   "id": "dfb35b3b-6d8e-4bff-b6ee-1a20c2744e72",
   "metadata": {
    "tags": [],
    "trusted": true
   },
   "outputs": [],
   "source": [
    "q = quaternion_from_matrix(r)"
   ]
  },
  {
   "cell_type": "code",
   "execution_count": 21,
   "id": "b901f4ec-4045-47ba-b530-b5fd2cfb7483",
   "metadata": {
    "tags": [],
    "trusted": true
   },
   "outputs": [],
   "source": [
    "ax, ay, az, w = q"
   ]
  },
  {
   "cell_type": "code",
   "execution_count": 22,
   "id": "98d6e847-65a4-4560-a163-6faa17d5e8e3",
   "metadata": {
    "tags": [],
    "trusted": true
   },
   "outputs": [],
   "source": [
    "marker = Marker()\n",
    "marker.header.frame_id = '/world'\n",
    "marker.type = marker.ARROW\n",
    "marker.id = 99\n",
    "marker.action = marker.ADD\n",
    "marker.scale.x = 0.5\n",
    "marker.scale.y = 0.1\n",
    "marker.scale.z = 0.1\n",
    "marker.color.r = 0.0\n",
    "marker.color.g = 1.0\n",
    "marker.color.b = 0.0\n",
    "marker.color.a = 1.0\n",
    "marker.pose.orientation.x = ax\n",
    "marker.pose.orientation.y = ay\n",
    "marker.pose.orientation.z = az\n",
    "marker.pose.orientation.w = w"
   ]
  },
  {
   "cell_type": "code",
   "execution_count": 23,
   "id": "62c564c6-1b5e-443f-9444-119cd138089d",
   "metadata": {
    "trusted": true
   },
   "outputs": [],
   "source": [
    "import rclpy\n",
    "from rclpy.node import Node\n",
    "from visualization_msgs.msg import Marker\n",
    "\n",
    "rclpy.init()\n",
    "marker_pub = Node(\"example_rotation_publisher\")\n",
    "marker_pub.publisher_ = marker_pub.create_publisher(Marker, 'example_rotations', 10)\n",
    "marker.header.stamp = marker_pub.get_clock().now().to_msg()\n",
    "marker_pub.publisher_.publish(marker)"
   ]
  },
  {
   "cell_type": "code",
   "execution_count": 24,
   "id": "1cd818fc-9228-4488-920c-e94fe2bd3735",
   "metadata": {
    "tags": [],
    "trusted": true
   },
   "outputs": [],
   "source": [
    "import time\n",
    "from copy import copy\n",
    "\n",
    "num_arrows = 20\n",
    "bow_split = np.pi * 2 / num_arrows\n",
    "\n",
    "for i in range(0, num_arrows):\n",
    "    r = euler_matrix(0, bow_split * i, 0)\n",
    "    ax, ay, az, w = quaternion_from_matrix(r)\n",
    "    marker.pose.orientation.x = ax\n",
    "    marker.pose.orientation.y = ay\n",
    "    marker.pose.orientation.z = az\n",
    "    marker.pose.orientation.w = w\n",
    "    marker.id = 100 + i\n",
    "    marker_pub.publisher_.publish(marker)\n",
    "    time.sleep(0.1)"
   ]
  },
  {
   "cell_type": "markdown",
   "id": "855821ff-6125-4320-9e48-914a230ae690",
   "metadata": {
    "tags": []
   },
   "source": [
    "# Tasks"
   ]
  },
  {
   "cell_type": "markdown",
   "id": "93ac4281-cc0c-43a3-b162-c893eaa337d2",
   "metadata": {
    "tags": []
   },
   "source": [
    "## Task 1\n",
    "\n",
    "After you have configured Rvizweb, save the settings on your local machine. This will save you time the next time you configure Rvizweb. \n",
    "Additionally, paste your source code here:\n",
    "    \n",
    "```bash\n",
    "## Your config goes here:\n",
    "# TODO\n",
    "\n",
    "Panels:\n",
    "  - Class: rviz_common/Displays\n",
    "    Help Height: 78\n",
    "    Name: Displays\n",
    "    Property Tree Widget:\n",
    "      Expanded:\n",
    "        - /Global Options1\n",
    "        - /Status1\n",
    "        - /Marker1\n",
    "        - /Marker2\n",
    "        - /Marker2/Topic1\n",
    "        - /MarkerArray1\n",
    "        - /MarkerArray1/Topic1\n",
    "      Splitter Ratio: 0.5\n",
    "    Tree Height: 542\n",
    "  - Class: rviz_common/Selection\n",
    "    Name: Selection\n",
    "  - Class: rviz_common/Tool Properties\n",
    "    Expanded:\n",
    "      - /2D Goal Pose1\n",
    "      - /Publish Point1\n",
    "    Name: Tool Properties\n",
    "    Splitter Ratio: 0.5886790156364441\n",
    "  - Class: rviz_common/Views\n",
    "    Expanded:\n",
    "      - /Current View1\n",
    "    Name: Views\n",
    "    Splitter Ratio: 0.5\n",
    "  - Class: rviz_common/Time\n",
    "    Experimental: false\n",
    "    Name: Time\n",
    "    SyncMode: 0\n",
    "    SyncSource: \"\"\n",
    "Visualization Manager:\n",
    "  Class: \"\"\n",
    "  Displays:\n",
    "    - Alpha: 0.5\n",
    "      Cell Size: 1\n",
    "      Class: rviz_default_plugins/Grid\n",
    "      Color: 160; 160; 164\n",
    "      Enabled: true\n",
    "      Line Style:\n",
    "        Line Width: 0.029999999329447746\n",
    "        Value: Lines\n",
    "      Name: Grid\n",
    "      Normal Cell Count: 0\n",
    "      Offset:\n",
    "        X: 0\n",
    "        Y: 0\n",
    "        Z: 0\n",
    "      Plane: XY\n",
    "      Plane Cell Count: 10\n",
    "      Reference Frame: <Fixed Frame>\n",
    "      Value: true\n",
    "    - Class: rviz_default_plugins/TF\n",
    "      Enabled: true\n",
    "      Filter (blacklist): \"\"\n",
    "      Filter (whitelist): \"\"\n",
    "      Frame Timeout: 15\n",
    "      Frames:\n",
    "        All Enabled: true\n",
    "        turtle1:\n",
    "          Value: true\n",
    "        turtle2:\n",
    "          Value: true\n",
    "        world:\n",
    "          Value: true\n",
    "      Marker Scale: 1\n",
    "      Name: TF\n",
    "      Show Arrows: true\n",
    "      Show Axes: true\n",
    "      Show Names: false\n",
    "      Tree:\n",
    "        world:\n",
    "          turtle1:\n",
    "            {}\n",
    "          turtle2:\n",
    "            {}\n",
    "      Update Interval: 0\n",
    "      Value: true\n",
    "    - Class: rviz_default_plugins/Marker\n",
    "      Enabled: true\n",
    "      Name: Marker\n",
    "      Namespaces:\n",
    "        \"\": true\n",
    "      Topic:\n",
    "        Depth: 5\n",
    "        Durability Policy: Volatile\n",
    "        Filter size: 10\n",
    "        History Policy: Keep Last\n",
    "        Reliability Policy: Reliable\n",
    "        Value: /balloon\n",
    "      Value: true\n",
    "    - Class: rviz_default_plugins/Marker\n",
    "      Enabled: true\n",
    "      Name: Marker\n",
    "      Namespaces:\n",
    "        {}\n",
    "      Topic:\n",
    "        Depth: 5\n",
    "        Durability Policy: Volatile\n",
    "        Filter size: 10\n",
    "        History Policy: Keep All\n",
    "        Reliability Policy: Reliable\n",
    "        Value: /turtle1_marker\n",
    "      Value: true\n",
    "    - Class: rviz_default_plugins/MarkerArray\n",
    "      Enabled: true\n",
    "      Name: MarkerArray\n",
    "      Namespaces:\n",
    "        turtle1: true\n",
    "        turtle2: true\n",
    "      Topic:\n",
    "        Depth: 5\n",
    "        Durability Policy: Volatile\n",
    "        History Policy: Keep All\n",
    "        Reliability Policy: Reliable\n",
    "        Value: /visualization_marker_array\n",
    "      Value: true\n",
    "  Enabled: true\n",
    "  Global Options:\n",
    "    Background Color: 48; 48; 48\n",
    "    Fixed Frame: world\n",
    "    Frame Rate: 30\n",
    "  Name: root\n",
    "  Tools:\n",
    "    - Class: rviz_default_plugins/Interact\n",
    "      Hide Inactive Objects: true\n",
    "    - Class: rviz_default_plugins/MoveCamera\n",
    "    - Class: rviz_default_plugins/Select\n",
    "    - Class: rviz_default_plugins/FocusCamera\n",
    "    - Class: rviz_default_plugins/Measure\n",
    "      Line color: 128; 128; 0\n",
    "    - Class: rviz_default_plugins/SetInitialPose\n",
    "      Covariance x: 0.25\n",
    "      Covariance y: 0.25\n",
    "      Covariance yaw: 0.06853891909122467\n",
    "      Topic:\n",
    "        Depth: 5\n",
    "        Durability Policy: Volatile\n",
    "        History Policy: Keep Last\n",
    "        Reliability Policy: Reliable\n",
    "        Value: /initialpose\n",
    "    - Class: rviz_default_plugins/SetGoal\n",
    "      Topic:\n",
    "        Depth: 5\n",
    "        Durability Policy: Volatile\n",
    "        History Policy: Keep Last\n",
    "        Reliability Policy: Reliable\n",
    "        Value: /goal_pose\n",
    "    - Class: rviz_default_plugins/PublishPoint\n",
    "      Single click: true\n",
    "      Topic:\n",
    "        Depth: 5\n",
    "        Durability Policy: Volatile\n",
    "        History Policy: Keep Last\n",
    "        Reliability Policy: Reliable\n",
    "        Value: /clicked_point\n",
    "  Transformation:\n",
    "    Current:\n",
    "      Class: rviz_default_plugins/TF\n",
    "  Value: true\n",
    "  Views:\n",
    "    Current:\n",
    "      Class: rviz_default_plugins/Orbit\n",
    "      Distance: 15.934110641479492\n",
    "      Enable Stereo Rendering:\n",
    "        Stereo Eye Separation: 0.05999999865889549\n",
    "        Stereo Focal Distance: 1\n",
    "        Swap Stereo Eyes: false\n",
    "        Value: false\n",
    "      Focal Point:\n",
    "        X: 0\n",
    "        Y: 0\n",
    "        Z: 0\n",
    "      Focal Shape Fixed Size: true\n",
    "      Focal Shape Size: 0.05000000074505806\n",
    "      Invert Z Axis: false\n",
    "      Name: Current View\n",
    "      Near Clip Distance: 0.009999999776482582\n",
    "      Pitch: 0.21539795398712158\n",
    "      Target Frame: <Fixed Frame>\n",
    "      Value: Orbit (rviz)\n",
    "      Yaw: 0.7103981971740723\n",
    "    Saved: ~\n",
    "Window Geometry:\n",
    "  Displays:\n",
    "    collapsed: false\n",
    "  Height: 846\n",
    "  Hide Left Dock: false\n",
    "  Hide Right Dock: false\n",
    "  QMainWindow State: 000000ff00000000fd000000040000000000000156000002acfc0200000008fb0000001200530065006c0065006300740069006f006e00000001e10000009b0000005d00fffffffb0000001e0054006f006f006c002000500072006f007000650072007400690065007302000001ed000001df00000185000000a3fb000000120056006900650077007300200054006f006f02000001df000002110000018500000122fb000000200054006f006f006c002000500072006f0070006500720074006900650073003203000002880000011d000002210000017afb000000100044006900730070006c006100790073010000003f000002ac000000cc00fffffffb0000002000730065006c0065006300740069006f006e00200062007500660066006500720200000138000000aa0000023a00000294fb00000014005700690064006500530074006500720065006f02000000e6000000d2000003ee0000030bfb0000000c004b0069006e0065006300740200000186000001060000030c00000261000000010000010f000002acfc0200000003fb0000001e0054006f006f006c002000500072006f00700065007200740069006500730100000041000000780000000000000000fb0000000a00560069006500770073010000003f000002ac000000a900fffffffb0000001200530065006c0065006300740069006f006e010000025a000000b200000000000000000000000200000490000000a9fc0100000001fb0000000a00560069006500770073030000004e00000080000002e10000019700000003000004b00000003efc0100000002fb0000000800540069006d00650100000000000004b00000026f00fffffffb0000000800540069006d006501000000000000045000000000000000000000023f000002ac00000004000000040000000800000008fc0000000100000002000000010000000a0054006f006f006c00730100000000ffffffff0000000000000000\n",
    "  Selection:\n",
    "    collapsed: false\n",
    "  Time:\n",
    "    collapsed: false\n",
    "  Tool Properties:\n",
    "    collapsed: false\n",
    "  Views:\n",
    "    collapsed: false\n",
    "  Width: 1200\n",
    "  X: 720\n",
    "  Y: 121\n",
    "  \n",
    "```\n",
    "\n",
    "Whenever markers do not load properly, try removing and reinserting the marker display. If this doesn´t work, try refreshing Rvizweb and reinserting your config. "
   ]
  },
  {
   "attachments": {
    "02cbeaf5-f97c-44b1-b883-7f58f2fcc7cb.png": {
     "image/png": "[encoded data removed]"
    }
   },
   "cell_type": "markdown",
   "id": "fff62da3-0148-40c5-9668-1c977deb2ca9",
   "metadata": {
    "tags": []
   },
   "source": [
    "## Task 2\n",
    "\n",
    "Below you can see one example of a turtle. It is approx. 40cm long. Use multiple primitive shapes to build the shape of the turtle. Your code should be running without executing the examples above.\n",
    "\n",
    "The turtle has at least 2 floors and 4 wheels.\n",
    "\n",
    "![turtle.png](attachment:02cbeaf5-f97c-44b1-b883-7f58f2fcc7cb.png)"
   ]
  },
  {
   "cell_type": "code",
   "execution_count": null,
   "id": "f4658022",
   "metadata": {},
   "outputs": [],
   "source": [
    "import sys\n",
    "!{sys.executable} -m pip install transforms3d"
   ]
  },
  {
   "cell_type": "code",
   "execution_count": 27,
   "id": "261c5062-f3a6-48f1-9546-c7fc3ac97c1d",
   "metadata": {
    "tags": [],
    "trusted": true
   },
   "outputs": [],
   "source": [
    "# Your code\n",
    "import rclpy\n",
    "from rclpy.node import Node\n",
    "from visualization_msgs.msg import Marker\n",
    "import geometry_msgs.msg\n",
    "import std_msgs.msg\n",
    "import tf_transformations as tf\n",
    "from tf_transformations import quaternion_from_euler  # Add this import at the top\n",
    "import math\n",
    "\n",
    "rclpy.init()\n",
    "#rclpy.init('turtle_marker_exercise')"
   ]
  },
  {
   "cell_type": "code",
   "execution_count": null,
   "id": "695cb856-c6c5-4ce2-b742-afa303b1edac",
   "metadata": {
    "trusted": true
   },
   "outputs": [],
   "source": [
    "class Turtle(Node):\n",
    "    def __init__(self, name, id_seed):\n",
    "        super().__init__(name)\n",
    "        self.publisher_ = self.create_publisher(Marker, f'/{name}_marker', 10)\n",
    "        self.frame_id = name\n",
    "        self.id_counter = id_seed\n",
    "        self.markers = []\n",
    "\n",
    "        self.base_offset_x = 0.0\n",
    "        self.base_offset_y = 0.0\n",
    "        self.base_offset_z = 0.5\n",
    "\n",
    "        # Platforms\n",
    "        for i in range(3):\n",
    "            z = 0.0 + i * 0.15\n",
    "            self.markers.append(self.make_cylinder(0.0, 0.0, z, 0.4, 0.4, 0.02, 0.0, 1.0, 0.0))\n",
    "\n",
    "        # Pillars\n",
    "        for level in range(2):\n",
    "            z = 0.075 + level * 0.15\n",
    "            for angle in [0, math.pi/2, math.pi, 3*math.pi/2]:\n",
    "                x = 0.15 * math.cos(angle)\n",
    "                y = 0.15 * math.sin(angle)\n",
    "                self.markers.append(self.make_cylinder(x, y, z, 0.02, 0.02, 0.15, 0.3, 0.3, 0.3))\n",
    "\n",
    "        # Wheels\n",
    "        wheel_z = -0.05\n",
    "        for x, y in [(0.15, 0.15), (-0.15, 0.15), (0.15, -0.15), (-0.15, -0.15)]:\n",
    "            wheel = self.make_cylinder(x, y, wheel_z, 0.05, 0.02, 0.05, 0.2, 0.2, 0.2)\n",
    "            wheel.pose.orientation.x = 0.0\n",
    "            wheel.pose.orientation.y = 0.707\n",
    "            wheel.pose.orientation.z = 0.0\n",
    "            wheel.pose.orientation.w = 0.707\n",
    "            self.markers.append(wheel)\n",
    "\n",
    "        # Periodic publish\n",
    "        self.timer = self.create_timer(0.5, self.publish_turtle)\n",
    "\n",
    "    def make_cylinder(self, x, y, z, sx, sy, sz, r, g, b):\n",
    "        marker = Marker()\n",
    "        marker.header.frame_id = self.frame_id\n",
    "        marker.type = Marker.CYLINDER\n",
    "        marker.id = self.id_counter\n",
    "        self.id_counter += 1\n",
    "        marker.action = Marker.ADD\n",
    "\n",
    "        marker.pose.position.x = self.base_offset_x + x\n",
    "        marker.pose.position.y = self.base_offset_y + y\n",
    "        marker.pose.position.z = self.base_offset_z + z\n",
    "\n",
    "        marker.scale.x = sx\n",
    "        marker.scale.y = sy\n",
    "        marker.scale.z = sz\n",
    "\n",
    "        marker.color.r = r\n",
    "        marker.color.g = g\n",
    "        marker.color.b = b\n",
    "        marker.color.a = 0.5\n",
    "        return marker\n",
    "\n",
    "    def publish_turtle(self):\n",
    "        now = self.get_clock().now().to_msg()\n",
    "        for marker in self.markers:\n",
    "            marker.header.stamp = now\n",
    "            self.publisher_.publish(marker)\n",
    "\n",
    "\n",
    "def main():\n",
    "    turtle = Turtle(\"turtle1\", 100)\n",
    "    rclpy.spin(turtle)\n",
    "    turtle.destroy_node()\n",
    "    rclpy.shutdown()\n",
    "\n",
    "\n",
    "if __name__ == '__main__':\n",
    "    main()\n"
   ]
  },
  {
   "cell_type": "code",
   "execution_count": 29,
   "id": "9ff99810",
   "metadata": {},
   "outputs": [],
   "source": [
    "rclpy.shutdown()"
   ]
  },
  {
   "cell_type": "markdown",
   "id": "8b86b175-eee1-4e1e-ad48-3904085efed1",
   "metadata": {},
   "source": [
    "## Task 3\n",
    "\n",
    "Make a marker for turtle1 and turtle2 and let them follow the position of their respective turtles continuously."
   ]
  },
  {
   "cell_type": "code",
   "execution_count": 30,
   "id": "e728898e",
   "metadata": {},
   "outputs": [],
   "source": [
    "import rclpy\n",
    "from rclpy.node import Node\n",
    "from turtlesim.msg import Pose\n",
    "from visualization_msgs.msg import Marker, MarkerArray\n",
    "from geometry_msgs.msg import Quaternion\n",
    "import math"
   ]
  },
  {
   "cell_type": "code",
   "execution_count": null,
   "id": "4508434e",
   "metadata": {},
   "outputs": [],
   "source": [
    "class Turtle3DMarkerPublisher(Node):\n",
    "    def __init__(self):\n",
    "        super().__init__('task3_turtle_marker_node')\n",
    "\n",
    "        self.publisher = self.create_publisher(MarkerArray, 'visualization_marker_array', 10)\n",
    "        self.turtle1_pose = None\n",
    "        self.turtle2_pose = None\n",
    "\n",
    "        self.create_subscription(Pose, '/turtle1/pose', self.turtle1_callback, 10)\n",
    "        self.create_subscription(Pose, '/turtle2/pose', self.turtle2_callback, 10)\n",
    "\n",
    "        self.timer = self.create_timer(0.1, self.publish_markers)\n",
    "\n",
    "    def turtle1_callback(self, msg):\n",
    "        self.turtle1_pose = msg\n",
    "\n",
    "    def turtle2_callback(self, msg):\n",
    "        self.turtle2_pose = msg\n",
    "\n",
    "    def euler_to_quaternion(self, roll, pitch, yaw):\n",
    "        qx = math.sin(roll/2) * math.cos(pitch/2) * math.cos(yaw/2) - math.cos(roll/2) * math.sin(pitch/2) * math.sin(yaw/2)\n",
    "        qy = math.cos(roll/2) * math.sin(pitch/2) * math.cos(yaw/2) + math.sin(roll/2) * math.cos(pitch/2) * math.sin(yaw/2)\n",
    "        qz = math.cos(roll/2) * math.cos(pitch/2) * math.sin(yaw/2) - math.sin(roll/2) * math.sin(pitch/2) * math.cos(yaw/2)\n",
    "        qw = math.cos(roll/2) * math.cos(pitch/2) * math.cos(yaw/2) + math.sin(roll/2) * math.sin(pitch/2) * math.sin(yaw/2)\n",
    "        return Quaternion(x=qx, y=qy, z=qz, w=qw)\n",
    "\n",
    "    def make_marker(self, marker_type, id, ns, px, py, pz, sx, sy, sz, r, g, b, orientation=None):\n",
    "        marker = Marker()\n",
    "        marker.header.frame_id = \"world\"\n",
    "        marker.id = id\n",
    "        marker.ns = ns\n",
    "        marker.type = marker_type\n",
    "        marker.action = Marker.ADD\n",
    "        marker.pose.position.x = px\n",
    "        marker.pose.position.y = py\n",
    "        marker.pose.position.z = pz\n",
    "        marker.scale.x = sx\n",
    "        marker.scale.y = sy\n",
    "        marker.scale.z = sz\n",
    "        marker.color.r = r\n",
    "        marker.color.g = g\n",
    "        marker.color.b = b\n",
    "        marker.color.a = 0.8\n",
    "        marker.lifetime.sec = 0\n",
    "        marker.pose.orientation = orientation or Quaternion(x=0.0, y=0.0, z=0.0, w=1.0)\n",
    "        return marker\n",
    "\n",
    "    def create_turtle_markers(self, pose, ns, id_start, base_color, balloon_color):\n",
    "        if pose is None:\n",
    "            return []\n",
    "\n",
    "        markers = []\n",
    "        x, y, theta = pose.x, pose.y, pose.theta\n",
    "        base_z = 0.5\n",
    "        id_counter = id_start\n",
    "        q_yaw = self.euler_to_quaternion(0, 0, theta)\n",
    "        q_wheel = self.euler_to_quaternion(0, math.pi/2, 0)\n",
    "\n",
    "        # Platforms (3 levels)\n",
    "        for i in range(3):\n",
    "            z = base_z + i * 0.15\n",
    "            markers.append(\n",
    "                self.make_marker(\n",
    "                    Marker.CYLINDER, id_counter, ns,\n",
    "                    x, y, z,\n",
    "                    0.4, 0.4, 0.02,\n",
    "                    *base_color['platform'],\n",
    "                    orientation=q_yaw\n",
    "                )\n",
    "            )\n",
    "            id_counter += 1\n",
    "\n",
    "        # Pillars (8 at 4 corners, 2 heights)\n",
    "        for level in range(2):\n",
    "            z = base_z + 0.075 + level * 0.15\n",
    "            for angle in [0, math.pi/2, math.pi, 3*math.pi/2]:\n",
    "                px = x + 0.15 * math.cos(theta + angle)\n",
    "                py = y + 0.15 * math.sin(theta + angle)\n",
    "                markers.append(\n",
    "                    self.make_marker(\n",
    "                        Marker.CYLINDER, id_counter, ns,\n",
    "                        px, py, z,\n",
    "                        0.02, 0.02, 0.15,\n",
    "                        *base_color['pillar'],\n",
    "                        orientation=q_yaw\n",
    "                    )\n",
    "                )\n",
    "                id_counter += 1\n",
    "\n",
    "        # Wheels (4 on base, horizontal)\n",
    "        wheel_z = base_z - 0.05\n",
    "        for dx, dy in [(0.15, 0.15), (-0.15, 0.15), (0.15, -0.15), (-0.15, -0.15)]:\n",
    "            wx = x + dx * math.cos(theta) - dy * math.sin(theta)\n",
    "            wy = y + dx * math.sin(theta) + dy * math.cos(theta)\n",
    "            markers.append(\n",
    "                self.make_marker(\n",
    "                    Marker.CYLINDER, id_counter, ns,\n",
    "                    wx, wy, wheel_z,\n",
    "                    0.05, 0.02, 0.05,\n",
    "                    *base_color['wheel'],\n",
    "                    orientation=q_wheel\n",
    "                )\n",
    "            )\n",
    "            id_counter += 1\n",
    "\n",
    "        # Balloon\n",
    "        balloon_z = base_z + 0.6\n",
    "        markers.append(\n",
    "            self.make_marker(\n",
    "                Marker.SPHERE, id_counter, ns,\n",
    "                x, y, balloon_z,\n",
    "                0.2, 0.2, 0.2,\n",
    "                *balloon_color,\n",
    "                orientation=q_yaw\n",
    "            )\n",
    "        )\n",
    "\n",
    "        return markers\n",
    "\n",
    "    def publish_markers(self):\n",
    "        marker_array = MarkerArray()\n",
    "\n",
    "        # Turtle1 with green base, gray pillars, black wheels, magenta balloon\n",
    "        marker_array.markers += self.create_turtle_markers(\n",
    "            self.turtle1_pose, 'turtle1', 100,\n",
    "            base_color={\n",
    "                'platform': (0.0, 1.0, 0.0),\n",
    "                'pillar': (0.3, 0.3, 0.3),\n",
    "                'wheel': (0.2, 0.2, 0.2)\n",
    "            },\n",
    "            balloon_color=(1.0, 0.0, 1.0)\n",
    "        )\n",
    "\n",
    "        # Turtle2 with blue base, white pillars, black wheels, aqua balloon\n",
    "        marker_array.markers += self.create_turtle_markers(\n",
    "            self.turtle2_pose, 'turtle2', 200,\n",
    "            base_color={\n",
    "                'platform': (0.0, 0.0, 1.0),\n",
    "                'pillar': (1.0, 1.0, 1.0),\n",
    "                'wheel': (0.1, 0.1, 0.1)\n",
    "            },\n",
    "            balloon_color=(0.0, 1.0, 0.7)\n",
    "        )\n",
    "\n",
    "        self.publisher.publish(marker_array)\n",
    "\n",
    "\n",
    "def main(args=None):\n",
    "    rclpy.init(args=args)\n",
    "    node = Turtle3DMarkerPublisher()\n",
    "    rclpy.spin(node)\n",
    "    node.destroy_node()\n",
    "    rclpy.shutdown()\n",
    "\n",
    "\n",
    "if __name__ == '__main__':\n",
    "    main()\n"
   ]
  }
 ],
 "metadata": {
  "kernelspec": {
   "display_name": "venv",
   "language": "python",
   "name": "python3"
  },
  "language_info": {
   "codemirror_mode": {
    "name": "ipython",
    "version": 3
   },
   "file_extension": ".py",
   "mimetype": "text/x-python",
   "name": "python",
   "nbconvert_exporter": "python",
   "pygments_lexer": "ipython3",
   "version": "3.12.3"
  }
 },
 "nbformat": 4,
 "nbformat_minor": 5
}
